{
 "cells": [
  {
   "cell_type": "code",
   "execution_count": null,
   "metadata": {},
   "outputs": [],
   "source": ["#!/usr/bin/env python3\n# Copyright 2009-2017 BHG http://bw.org/\n\nimport sqlite3\n\ndef main():\n    print('connect')\n    db = sqlite3.connect('db-api.db')\n    cur = db.cursor()\n    print('create')\n    cur.execute(\"DROP TABLE IF EXISTS test\")\n    cur.execute(\"\"\"\n        CREATE TABLE test (\n            id INTEGER PRIMARY KEY, string TEXT, number INTEGER\n        )\n        \"\"\")\n    print('insert row')\n    cur.execute(\"\"\"\n        INSERT INTO test (string, number) VALUES ('one', 1)\n        \"\"\")\n    print('insert row')\n    cur.execute(\"\"\"\n        INSERT INTO test (string, number) VALUES ('two', 2)\n        \"\"\")\n    print('insert row')\n    cur.execute(\"\"\"\n        INSERT INTO test (string, number) VALUES ('three', 3)\n        \"\"\")\n    print('commit')\n    db.commit()\n    print('count')\n    cur.execute(\"SELECT COUNT(*) FROM test\")\n    count = cur.fetchone()[0]\n    print(f'there are {count} rows in the table.')\n    print('read')\n    for row in cur.execute(\"SELECT * FROM test\"):\n        print(row)\n    print('drop')\n    cur.execute(\"DROP TABLE test\")\n    print('close')\n    db.close()\n\nif __name__ == '__main__': main()\n"   ]
  }
 ],
 "metadata": {
  "kernelspec": {
   "display_name": "Python 3",
   "language": "python",
   "name": "python3"
  },
  "language_info": {
   "codemirror_mode": {
    "name": "ipython",
    "version": 3
   },
   "file_extension": ".py",
   "mimetype": "text/x-python",
   "name": "python",
   "nbconvert_exporter": "python",
   "pygments_lexer": "ipython3",
   "version": "3.7.3"
  }
 },
 "nbformat": 4,
 "nbformat_minor": 2
}