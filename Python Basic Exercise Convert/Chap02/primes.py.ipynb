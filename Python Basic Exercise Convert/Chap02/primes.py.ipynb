{
 "cells": [
  {
   "cell_type": "code",
   "execution_count": null,
   "metadata": {},
   "outputs": [],
   "source": ["#!/usr/bin/env python3\n# Copyright 2009-2017 BHG http://bw.org/\n\ndef isprime(n):\n    if n <= 1:\n        return False\n    for x in range(2, n):\n        if n % x == 0:\n            return False\n    else:\n        return True\n\nn = 5\nif isprime(n):\n    print(f'{n} is prime')\nelse:\n    print(f'{n} not prime')\n\n"   ]
  }
 ],
 "metadata": {
  "kernelspec": {
   "display_name": "Python 3",
   "language": "python",
   "name": "python3"
  },
  "language_info": {
   "codemirror_mode": {
    "name": "ipython",
    "version": 3
   },
   "file_extension": ".py",
   "mimetype": "text/x-python",
   "name": "python",
   "nbconvert_exporter": "python",
   "pygments_lexer": "ipython3",
   "version": "3.7.3"
  }
 },
 "nbformat": 4,
 "nbformat_minor": 2
}