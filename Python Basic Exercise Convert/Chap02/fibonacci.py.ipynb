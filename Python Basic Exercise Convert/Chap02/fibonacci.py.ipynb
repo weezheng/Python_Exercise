{
 "cells": [
  {
   "cell_type": "code",
   "execution_count": null,
   "metadata": {},
   "outputs": [],
   "source": ["#!/usr/bin/env python3\n# Copyright 2009-2017 BHG http://bw.org/\n\n# simple fibonacci series\n# the sum of two elements defines the next set\n\na, b = 0, 1\nwhile b < 1000:\n    print(b, end = ' ', flush = True)\n    a, b = b, a + b\n\nprint() # line ending\n"   ]
  }
 ],
 "metadata": {
  "kernelspec": {
   "display_name": "Python 3",
   "language": "python",
   "name": "python3"
  },
  "language_info": {
   "codemirror_mode": {
    "name": "ipython",
    "version": 3
   },
   "file_extension": ".py",
   "mimetype": "text/x-python",
   "name": "python",
   "nbconvert_exporter": "python",
   "pygments_lexer": "ipython3",
   "version": "3.7.3"
  }
 },
 "nbformat": 4,
 "nbformat_minor": 2
}