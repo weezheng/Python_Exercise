{
 "cells": [
  {
   "cell_type": "code",
   "execution_count": null,
   "metadata": {},
   "outputs": [],
   "source": ["#!/usr/bin/env python3\n# Copyright 2009-2017 BHG http://bw.org/\n\n# globals\ndlevel = 0 # manage nesting level\n\ndef main():\n    r = range(11)\n    l = [ 1, 'two', 3, {'4': 'four' }, 5 ]\n    t = ( 'one', 'two', None, 'four', 'five' )\n    s = set(\"It's a bird! It's a plane! It's Superman!\")\n    d = dict( one = r, two = l, three = s )\n    mixed = [ l, r, s, d, t ]\n    disp(mixed)\n\ndef disp(o):\n    global dlevel\n\n    dlevel += 1\n    if   isinstance(o, list):  print_list(o)\n    elif isinstance(o, range): print_list(o)\n    elif isinstance(o, tuple): print_tuple(o)\n    elif isinstance(o, set):   print_set(o)\n    elif isinstance(o, dict):  print_dict(o)\n    elif o is None: print('Nada', end=' ', flush=True)\n    else: print(repr(o), end=' ', flush=True)\n    dlevel -= 1\n\n    if dlevel <= 1: print() # newline after outer\n\ndef print_list(o):\n    print('[', end=' ')\n    for x in o: disp(x)\n    print(']', end=' ', flush=True)\n\ndef print_tuple(o):\n    print('(', end=' ')\n    for x in o: disp(x)\n    print(')', end=' ', flush=True)\n\ndef print_set(o):\n    print('{', end=' ')\n    for x in sorted(o): disp(x)\n    print('}', end=' ', flush=True)\n\ndef print_dict(o):\n    print('{', end=' ')\n    for k, v in o.items():\n        print(k, end=': ' )\n        disp(v)\n    print('}', end=' ', flush=True)\n\nif __name__ == '__main__': main()\n"   ]
  }
 ],
 "metadata": {
  "kernelspec": {
   "display_name": "Python 3",
   "language": "python",
   "name": "python3"
  },
  "language_info": {
   "codemirror_mode": {
    "name": "ipython",
    "version": 3
   },
   "file_extension": ".py",
   "mimetype": "text/x-python",
   "name": "python",
   "nbconvert_exporter": "python",
   "pygments_lexer": "ipython3",
   "version": "3.7.3"
  }
 },
 "nbformat": 4,
 "nbformat_minor": 2
}