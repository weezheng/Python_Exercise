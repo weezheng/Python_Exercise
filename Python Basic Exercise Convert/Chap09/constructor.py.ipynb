{
 "cells": [
  {
   "cell_type": "code",
   "execution_count": null,
   "metadata": {},
   "outputs": [],
   "source": ["#!/usr/bin/env python3\n# Copyright 2009-2017 BHG http://bw.org/\n\nclass Animal:\n    def __init__(self, type, name, sound):\n        self._type = type\n        self._name = name\n        self._sound = sound\n\n    def type(self):\n        return self._type\n\n    def name(self):\n        return self._name\n\n    def sound(self):\n        return self._sound\n\ndef print_animal(o):\n    if not isinstance(o, Animal):\n        raise TypeError('print_animal(): requires an Animal')\n    print('The {} is named \"{}\" and says \"{}\".'.format(o.type(), o.name(), o.sound()))\n\n\ndef main():\n    a0 = Animal('kitten', 'fluffy', 'rwar')\n    a1 = Animal('duck', 'donald', 'quack')\n    print_animal(a0)\n    print_animal(a1)\n    print_animal(Animal('velociraptor', 'veronica', 'hello'))\n\nif __name__ == '__main__': main()\n"   ]
  }
 ],
 "metadata": {
  "kernelspec": {
   "display_name": "Python 3",
   "language": "python",
   "name": "python3"
  },
  "language_info": {
   "codemirror_mode": {
    "name": "ipython",
    "version": 3
   },
   "file_extension": ".py",
   "mimetype": "text/x-python",
   "name": "python",
   "nbconvert_exporter": "python",
   "pygments_lexer": "ipython3",
   "version": "3.7.3"
  }
 },
 "nbformat": 4,
 "nbformat_minor": 2
}