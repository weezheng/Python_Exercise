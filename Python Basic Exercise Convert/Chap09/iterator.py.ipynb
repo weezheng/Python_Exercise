{
 "cells": [
  {
   "cell_type": "code",
   "execution_count": null,
   "metadata": {},
   "outputs": [],
   "source": ["#!/usr/bin/env python3\n# Copyright 2009-2017 BHG http://bw.org/\n\nclass inclusive_range:\n    def __init__(self, *args):\n        numargs = len(args)\n        self._start = 0\n        self._step = 1\n        \n        if numargs < 1:\n            raise TypeError(f'expected at least 1 argument, got {numargs}')\n        elif numargs == 1:\n            self._stop = args[0]\n        elif numargs == 2:\n            (self._start, self._stop) = args\n        elif numargs == 3:\n            (self._start, self._stop, self._step) = args\n        else: raise TypeError(f'expected at most 3 arguments, got {numargs}')\n\n        self._next = self._start\n    \n    def __iter__(self):\n        return self\n\n    def __next__(self):\n        if self._next > self._stop:\n            raise StopIteration\n        else:\n            _r = self._next\n            self._next += self._step\n            return _r\n\ndef main():\n    for n in inclusive_range(25):\n        print(n, end=' ')\n    print()\n\nif __name__ == '__main__': main()\n"   ]
  }
 ],
 "metadata": {
  "kernelspec": {
   "display_name": "Python 3",
   "language": "python",
   "name": "python3"
  },
  "language_info": {
   "codemirror_mode": {
    "name": "ipython",
    "version": 3
   },
   "file_extension": ".py",
   "mimetype": "text/x-python",
   "name": "python",
   "nbconvert_exporter": "python",
   "pygments_lexer": "ipython3",
   "version": "3.7.3"
  }
 },
 "nbformat": 4,
 "nbformat_minor": 2
}