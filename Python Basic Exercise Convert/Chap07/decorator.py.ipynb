{
 "cells": [
  {
   "cell_type": "code",
   "execution_count": null,
   "metadata": {},
   "outputs": [],
   "source": ["#!/usr/bin/env python3\n# Copyright 2009-2017 BHG http://bw.org/\n\nimport time\n\ndef elapsed_time(f):\n    def wrapper():\n        t1 = time.time()\n        f()\n        t2 = time.time()\n        print(f'Elapsed time: {(t2 - t1) * 1000} ms')\n    return wrapper\n\n\n@elapsed_time\ndef big_sum():\n    num_list = []\n    for num in (range(0, 10000)):\n        num_list.append(num)\n    print(f'Big sum: {sum(num_list)}')\n\ndef main():\n    big_sum()\n\nif __name__ == '__main__': main()\n"   ]
  }
 ],
 "metadata": {
  "kernelspec": {
   "display_name": "Python 3",
   "language": "python",
   "name": "python3"
  },
  "language_info": {
   "codemirror_mode": {
    "name": "ipython",
    "version": 3
   },
   "file_extension": ".py",
   "mimetype": "text/x-python",
   "name": "python",
   "nbconvert_exporter": "python",
   "pygments_lexer": "ipython3",
   "version": "3.7.3"
  }
 },
 "nbformat": 4,
 "nbformat_minor": 2
}