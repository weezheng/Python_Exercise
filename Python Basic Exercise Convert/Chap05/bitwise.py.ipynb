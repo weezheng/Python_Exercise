{
 "cells": [
  {
   "cell_type": "code",
   "execution_count": null,
   "metadata": {},
   "outputs": [],
   "source": ["#!/usr/bin/env python3\n# Copyright 2009-2017 BHG http://bw.org/\n\nx = 0x0a\ny = 0x02\nz = x & y\n\nprint(f'(hex) x is {x:02x}, y is {y:02x}, z is {z:02x}')\nprint(f'(bin) x is {x:08b}, y is {y:08b}, z is {z:08b}')\n"   ]
  }
 ],
 "metadata": {
  "kernelspec": {
   "display_name": "Python 3",
   "language": "python",
   "name": "python3"
  },
  "language_info": {
   "codemirror_mode": {
    "name": "ipython",
    "version": 3
   },
   "file_extension": ".py",
   "mimetype": "text/x-python",
   "name": "python",
   "nbconvert_exporter": "python",
   "pygments_lexer": "ipython3",
   "version": "3.7.3"
  }
 },
 "nbformat": 4,
 "nbformat_minor": 2
}