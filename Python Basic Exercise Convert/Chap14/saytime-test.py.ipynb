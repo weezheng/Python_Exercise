{
 "cells": [
  {
   "cell_type": "code",
   "execution_count": null,
   "metadata": {},
   "outputs": [],
   "source": ["#!/usr/bin/env python3\n# Copyright 2009-2017 BHG http://bw.org/\n\nimport saytime\n\ndef main():\n    st = saytime.saytime()\n    print('\\nnumbers test:')\n    list = (\n        0, 1, 2, 3, 4, 5, 6, 7, 8, 9, 10, 12, 15, 19, 20, 30, \n        50, 51, 52, 55, 59, 99, 100, 101, 112, 900, 999, 1000 \n    )\n    for l in list:\n        st.number(l)\n        print(l, st.numwords())\n\n    print('\\ntime test:')\n    list = (\n        (0, 0), (0, 1), (11, 0), (12, 0), (13, 0), (12, 29), (12, 30),\n        (12, 31), (12, 15), (12, 30), (12, 45), (11, 59), (23, 15), \n        (23, 59), (12, 59), (13, 59), (1, 60), (24, 0)\n    )\n    for l in list:\n        st.time(*l)\n        print(st.digits(), st.words())\n    \n    st.time_t() # set time to now\n    print('\\nlocal time is ' + st.words())\n\nif __name__ == '__main__': main()\n"   ]
  }
 ],
 "metadata": {
  "kernelspec": {
   "display_name": "Python 3",
   "language": "python",
   "name": "python3"
  },
  "language_info": {
   "codemirror_mode": {
    "name": "ipython",
    "version": 3
   },
   "file_extension": ".py",
   "mimetype": "text/x-python",
   "name": "python",
   "nbconvert_exporter": "python",
   "pygments_lexer": "ipython3",
   "version": "3.7.3"
  }
 },
 "nbformat": 4,
 "nbformat_minor": 2
}