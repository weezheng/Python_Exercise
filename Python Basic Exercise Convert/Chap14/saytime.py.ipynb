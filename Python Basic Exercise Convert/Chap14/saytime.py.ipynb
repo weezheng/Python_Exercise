{
 "cells": [
  {
   "cell_type": "code",
   "execution_count": null,
   "metadata": {},
   "outputs": [],
   "source": ["#!/usr/bin/env python3\n# saytime.py by Bill Weinman [http://bw.org/]\n# Copyright 2010-2017 The BearHeart Gorup, LLC\n\nimport sys\nimport time\n\n__version__ = '1.2.0'\n\nclass numwords():\n    '''\n        return a number as words,\n        e.g., 42 becomes 'forty-two'\n    '''\n    _words = {\n        'ones': (\n            'oh', 'one', 'two', 'three', 'four', 'five', 'six', 'seven', 'eight', 'nine'\n        ), 'tens': (\n            '', 'ten', 'twenty', 'thirty', 'forty', 'fifty', 'sixty', 'seventy', 'eighty', 'ninety'\n        ), 'teens': (\n            'ten', 'eleven', 'twelve', 'thirteen', 'fourteen', 'fifteen', 'sixteen', 'seventeen', 'eighteen', 'nineteen' \n        ), 'quarters': (\n            'o\\'clock', 'quarter', 'half'\n        ), 'range': {\n            'hundred': 'hundred'\n        }, 'misc': {\n            'minus': 'minus'\n        }\n    }\n    _oor = 'OOR'    # Out Of Range\n\n    def __init__(self, n):\n        self._number = n;\n\n    def numwords(self, num = None):\n        'Return the number as words'\n        n = self._number if num is None else num\n        s = ''\n        if n < 0:           # negative numbers\n            s += self._words['misc']['minus'] + ' '\n            n = abs(n)\n        if n < 10:          # single-digit numbers\n            s += self._words['ones'][n]  \n        elif n < 20:        # teens\n            s += self._words['teens'][n - 10]\n        elif n < 100:       # tens\n            m = n % 10\n            t = n // 10\n            s += self._words['tens'][t]\n            if m: s += '-' + numwords(m).numwords()    # recurse for remainder\n        elif n < 1000:      # hundreds\n            m = n % 100\n            t = n // 100\n            s += self._words['ones'][t] + ' ' + self._words['range']['hundred']\n            if m: s += ' ' + numwords(m).numwords()    # recurse for remainder\n        else:\n            s += self._oor\n        return s\n\n    def number(self, n = None):\n        'setter/getter'\n        if n is not None:\n            self._number = n\n        return str(self._number);\n\nclass saytime(numwords):\n    '''\n        return the time (from two parameters) as words,\n        e.g., fourteen til noon, quarter past one, etc.\n    '''\n\n    _specials = {\n        'noon': 'noon',\n        'midnight': 'midnight',\n        'til': 'til',\n        'past': 'past'\n    }\n\n    def __init__(self, h = None, m = None):\n        self.time(h, m)\n\n    def time(self, h = None, m = None):\n        if h is not None:\n            self._hour = abs(int(h))\n        if m is not None:\n            self._min = abs(int(m))\n        return (h, m)\n\n    def time_t(self, t = None):\n        if t is None:\n            t = time.localtime()\n        self._hour = t.tm_hour\n        self._min = t.tm_min\n\n    def words(self):\n        h = self._hour\n        m = self._min\n        \n        if h > 23: return self._oor     # OOR errors\n        if m > 59: return self._oor\n\n        sign = self._specials['past']        \n        if self._min > 30:\n            sign = self._specials['til']\n            h += 1\n            m = 60 - m\n        if h > 23: h -= 24\n        elif h > 12: h -= 12\n\n        # hword is the hours word)\n        if h is 0: hword = self._specials['midnight']\n        elif h is 12: hword = self._specials['noon']\n        else: hword = self.numwords(h)\n\n        if m is 0:\n            if h in (0, 12): return hword   # for noon and midnight\n            else: return \"{} {}\".format(self.numwords(h), self._words['quarters'][m])\n        if m % 15 is 0:\n            return \"{} {} {}\".format(self._words['quarters'][m // 15], sign, hword) \n        return \"{} {} {}\".format(self.numwords(m), sign, hword) \n\n    def digits(self):\n        'return the traditionl time, e.g., 13:42'\n        return f'{self._hour:02}:{self._min:02}'\n\nclass saytime_t(saytime):   # wrapper for saytime to use time object\n    '''\n        set the time from a time object\n    '''\n    def __init__(self, t = None):\n        self.time_t()\n\ndef main():\n    if len(sys.argv) > 1:\n        if sys.argv[1] == 'test':\n            test()\n        else:\n            try: print(saytime(*(sys.argv[1].split(':'))).words())\n            except TypeError: print('Invalid time ({})'.format(sys.argv[1]))\n    else:\n        print(saytime_t().words())\n\ndef test():\n    st = saytime()\n    print('\\nnumbers test:')\n    list = (\n        0, 1, 2, 3, 4, 5, 6, 7, 8, 9, 10, 12, 15, 19, 20, 30, \n        50, 51, 52, 55, 59, 99, 100, 101, 112, 900, 999, 1000 \n    )\n    for l in list:\n        st.number(l)\n        print(l, st.numwords())\n\n    print('\\ntime test:')\n    list = (\n        (0, 0), (0, 1), (11, 0), (12, 0), (13, 0), (12, 29), (12, 30),\n        (12, 31), (12, 15), (12, 30), (12, 45), (11, 59), (23, 15), \n        (23, 59), (12, 59), (13, 59), (1, 60), (24, 0)\n    )\n    for l in list:\n        st.time(*l)\n        print(st.digits(), st.words())\n    \n    st.time_t() # set time to now\n    print('\\nlocal time is ' + st.words())\n\nif __name__ == '__main__': main()\n"   ]
  }
 ],
 "metadata": {
  "kernelspec": {
   "display_name": "Python 3",
   "language": "python",
   "name": "python3"
  },
  "language_info": {
   "codemirror_mode": {
    "name": "ipython",
    "version": 3
   },
   "file_extension": ".py",
   "mimetype": "text/x-python",
   "name": "python",
   "nbconvert_exporter": "python",
   "pygments_lexer": "ipython3",
   "version": "3.7.3"
  }
 },
 "nbformat": 4,
 "nbformat_minor": 2
}